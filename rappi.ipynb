{
 "cells": [
  {
   "cell_type": "code",
   "execution_count": null,
   "id": "318b9711-7d73-4263-8c95-6470d8f2823b",
   "metadata": {},
   "outputs": [],
   "source": [
    "import json\n",
    "import os\n",
    "import shutil\n",
    "import pandas as pd\n",
    "from pathlib import Path\n",
    "from time import sleep\n",
    "import re\n",
    "from selenium import webdriver\n",
    "from selenium.webdriver.chrome.options import Options\n",
    "from selenium.common.exceptions import NoSuchElementException\n",
    "\n",
    "dirpath = os.getcwd()+'\\\\chromedriver.exe' \n",
    "download_path = os.getcwd()+'\\\\output'\n",
    "chrome_options = Options()\n",
    "chrome_options.add_argument('--start-maximized')\n",
    "chrome_options.add_argument(\"--enable-javascript\")\n",
    "\n",
    "appState = {\n",
    "   \"recentDestinations\": [\n",
    "        {\n",
    "            \"id\": \"Save as PDF\",\n",
    "            \"origin\": \"local\",\n",
    "            \"account\": \"\"\n",
    "        }\n",
    "    ],\n",
    "    \"selectedDestinationId\": \"Save as PDF\",\n",
    "    \"version\": 2\n",
    "}\n",
    "prefs = {\n",
    "    'printing.print_preview_sticky_settings.appState': json.dumps(appState),\n",
    "    'savefile.default_directory': download_path\n",
    "        }\n",
    "\n",
    "chrome_options.add_experimental_option('prefs', prefs)\n",
    "chrome_options.add_argument('--kiosk-printing')\n",
    "\n",
    "browser = webdriver.Chrome(executable_path=dirpath, options=chrome_options) #instancia o driver\n",
    "\n",
    "dic = {\"Produto\": [],\n",
    "       \"Preço\": [],\n",
    "       \"Desconto %\": [],\n",
    "       \"Quantidade\": []\n",
    "}\n",
    "\n",
    "with open('links.json', encoding='utf-8') as fh:\n",
    "    json = json.load(fh)"
   ]
  },
  {
   "cell_type": "code",
   "execution_count": null,
   "id": "c8abbcb5-2fc8-46df-ba9c-02dc99ed587e",
   "metadata": {},
   "outputs": [],
   "source": [
    "for x in json['Grupo BIG']:\n",
    "    browser.get(\"{}\".format(json['Grupo BIG'][x]))\n",
    "    itens = browser.find_elements_by_xpath(\"*//h2[contains(text(), '{}' )]//..//..//div[2]//ul//div\".format(x))"
   ]
  },
  {
   "cell_type": "code",
   "execution_count": null,
   "id": "faaf623a-96d1-4f17-a5a3-460f444f48bf",
   "metadata": {},
   "outputs": [],
   "source": [
    "itens[0].text"
   ]
  },
  {
   "cell_type": "code",
   "execution_count": null,
   "id": "cd6e1ce1-ebfd-4b1c-9d4e-2824f1b2fc69",
   "metadata": {},
   "outputs": [],
   "source": []
  },
  {
   "cell_type": "code",
   "execution_count": null,
   "id": "769e0f72-6a13-440f-8d3a-75c74c1526bc",
   "metadata": {},
   "outputs": [],
   "source": [
    "porcentagem = []\n",
    "for x in itens:\n",
    "    if re.search(\"%\", x.text) and len(x.text.split(\"\\n\")) >=4:\n",
    "        porcentagem.append(x)\n",
    "\n",
    "        \n",
    "for x in porcentagem:\n",
    "    list_temp = x.text.split(\"\\n\")\n",
    "    if len(list_temp) == 6:\n",
    "        list_temp.remove(list_temp[2])\n",
    "        list_temp.remove(list_temp[0])\n",
    "    else:\n",
    "        list_temp.remove(list_temp[1])\n",
    "        \n",
    "    dic[\"Produto\"].append(list_temp[2])\n",
    "    dic[\"Preço\"].append(list_temp[0])\n",
    "    dic[\"Desconto %\"].append(list_temp[1])\n",
    "    dic[\"Quantidade\"].append(list_temp[3])\n",
    "    \n",
    "df = pd.DataFrame(dic).drop_duplicates(ignore_index=True)\n",
    "df['Desconto %'] = df['Desconto %'].str.replace(\"%\", '')\n",
    "df['Desconto %'] = df['Desconto %'].astype('float64')\n",
    "df = df.sort_values('Desconto %', ascending=False, ignore_index=True)"
   ]
  },
  {
   "cell_type": "code",
   "execution_count": null,
   "id": "80fc4427-7a19-4976-b4df-151597c63286",
   "metadata": {},
   "outputs": [],
   "source": [
    "df"
   ]
  },
  {
   "cell_type": "code",
   "execution_count": null,
   "id": "08c3f891-0af0-407a-b82b-1efe3fe1ea8d",
   "metadata": {},
   "outputs": [],
   "source": []
  }
 ],
 "metadata": {
  "kernelspec": {
   "display_name": "Python 3 (ipykernel)",
   "language": "python",
   "name": "python3"
  },
  "language_info": {
   "codemirror_mode": {
    "name": "ipython",
    "version": 3
   },
   "file_extension": ".py",
   "mimetype": "text/x-python",
   "name": "python",
   "nbconvert_exporter": "python",
   "pygments_lexer": "ipython3",
   "version": "3.10.6"
  }
 },
 "nbformat": 4,
 "nbformat_minor": 5
}
